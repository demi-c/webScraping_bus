{
 "cells": [
  {
   "cell_type": "markdown",
   "metadata": {},
   "source": [
    "## 測驗題1"
   ]
  },
  {
   "cell_type": "markdown",
   "metadata": {},
   "source": [
    "### Web Scraping"
   ]
  },
  {
   "cell_type": "code",
   "execution_count": 1,
   "metadata": {},
   "outputs": [
    {
     "name": "stderr",
     "output_type": "stream",
     "text": [
      "/Users/demi/anaconda3/lib/python3.7/site-packages/pandas/compat/_optional.py:138: UserWarning: Pandas requires version '2.7.0' or newer of 'numexpr' (version '2.6.9' currently installed).\n",
      "  warnings.warn(msg, UserWarning)\n"
     ]
    }
   ],
   "source": [
    "# web scraping\n",
    "from selenium import webdriver\n",
    "from selenium.webdriver.common.by import By\n",
    "from selenium.webdriver.support.ui import Select\n",
    "from selenium.webdriver.support.ui import WebDriverWait\n",
    "from selenium.webdriver.support import expected_conditions as EC\n",
    "from webdriver_manager.chrome import ChromeDriverManager\n",
    "\n",
    "# time wait\n",
    "import time\n",
    "\n",
    "# dataframe\n",
    "import pandas as pd"
   ]
  },
  {
   "cell_type": "code",
   "execution_count": 2,
   "metadata": {},
   "outputs": [],
   "source": [
    "# function for option selection\n",
    "def select_option(element, option):\n",
    "    select = Select(element)\n",
    "    select.select_by_visible_text(option)"
   ]
  },
  {
   "cell_type": "code",
   "execution_count": 3,
   "metadata": {},
   "outputs": [],
   "source": [
    "area = '台北'\n",
    "depart = '臺北轉運站'\n",
    "dest = '朝馬轉運站'"
   ]
  },
  {
   "cell_type": "code",
   "execution_count": 4,
   "metadata": {},
   "outputs": [
    {
     "name": "stderr",
     "output_type": "stream",
     "text": [
      "[WDM] - \n",
      "\n",
      "[WDM] - ====== WebDriver manager ======\n",
      "[WDM] - Current google-chrome version is 95.0.4638\n",
      "[WDM] - Get LATEST driver version for 95.0.4638\n",
      "[WDM] - Driver [/Users/demi/.wdm/drivers/chromedriver/mac64/95.0.4638.54/chromedriver] found in cache\n",
      "/Users/demi/anaconda3/lib/python3.7/site-packages/ipykernel_launcher.py:2: DeprecationWarning: executable_path has been deprecated, please pass in a Service object\n",
      "  \n"
     ]
    }
   ],
   "source": [
    "# build a chrome webdriver\n",
    "browser = webdriver.Chrome(ChromeDriverManager().install())\n",
    "browser.implicitly_wait(3)\n",
    "browser.get('http://www.kingbus.com.tw/ticketRoute.php')\n",
    "\n",
    "## select options\n",
    "\n",
    "# first select area\n",
    "area_element = browser.find_element(By.ID, 'area')\n",
    "select_option(area_element, area)\n",
    "\n",
    "# wait for the output's ready\n",
    "browser.implicitly_wait(3)\n",
    "\n",
    "# then select departure and destination\n",
    "depart_element = browser.find_element(By.ID, 'origin')\n",
    "select_option(depart_element, depart)\n",
    "\n",
    "dest_element = browser.find_element(By.ID, 'destination')\n",
    "select_option(dest_element, dest)\n",
    "\n",
    "# click submit button and wait for the results\n",
    "submit = browser.find_element(By.NAME, 'submit')\n",
    "submit.click()\n",
    "\n",
    "# get the results\n",
    "result = browser.find_element(By.CLASS_NAME, 'routeData')\n",
    "#print(result.text)\n"
   ]
  },
  {
   "cell_type": "markdown",
   "metadata": {},
   "source": [
    "### Output the results to CSV"
   ]
  },
  {
   "cell_type": "code",
   "execution_count": 5,
   "metadata": {},
   "outputs": [],
   "source": [
    "# build csv\n",
    "csv_rows = []\n",
    "for s in result.text.split('\\n'):\n",
    "    s_ = s.split('\\u3000')\n",
    "    cln_first = s_[0].split(' ')[1]\n",
    "    cln_second = ''.join(s_[1:]).replace(' ', '')\n",
    "    csv_rows.append([cln_first, cln_second])\n",
    "    \n",
    "df_route = pd.DataFrame(csv_rows, columns=['route', 'description'])\n",
    "df_route.to_csv('route.csv', index = False)"
   ]
  },
  {
   "cell_type": "code",
   "execution_count": 6,
   "metadata": {},
   "outputs": [],
   "source": [
    "# prepare data for sql\n",
    "sql_data = list(tuple(i) for i in csv_rows)\n",
    "#print(len(sql_data))"
   ]
  },
  {
   "cell_type": "code",
   "execution_count": null,
   "metadata": {},
   "outputs": [],
   "source": []
  },
  {
   "cell_type": "markdown",
   "metadata": {},
   "source": [
    "### Write Data to SQL Server and Count '埔里' in routes"
   ]
  },
  {
   "cell_type": "code",
   "execution_count": 7,
   "metadata": {},
   "outputs": [],
   "source": [
    "import mysql.connector"
   ]
  },
  {
   "cell_type": "code",
   "execution_count": 8,
   "metadata": {},
   "outputs": [],
   "source": [
    "# Connect MySQL server\n",
    "\n",
    "maxdb = mysql.connector.connect(\n",
    "  host = \"127.0.0.1\",\n",
    "  user = \"root\",\n",
    "  password = \"a123456**\",\n",
    "  )\n",
    "cursor=maxdb.cursor()"
   ]
  },
  {
   "cell_type": "code",
   "execution_count": 9,
   "metadata": {},
   "outputs": [],
   "source": [
    "# Create DB\n",
    "cursor.execute(\"CREATE DATABASE bus_route\")"
   ]
  },
  {
   "cell_type": "code",
   "execution_count": 10,
   "metadata": {},
   "outputs": [],
   "source": [
    "# connect to MySQL DB\n",
    "maxdb = mysql.connector.connect(\n",
    "  host = \"127.0.0.1\",\n",
    "  user = \"root\",\n",
    "  password = \"a123456**\",\n",
    "  database = \"bus_route\",\n",
    "  )\n",
    "cursor=maxdb.cursor()\n",
    "\n",
    "# Create table\n",
    "cursor.execute(\"CREATE TABLE bus_routes (route VARCHAR(99), description VARCHAR(99), id INTEGER AUTO_INCREMENT PRIMARY Key)\")\n",
    "\n",
    "# Insert results\n",
    "sqlStuff = \"INSERT INTO bus_routes (route, description) VALUES (%s,%s)\"\n",
    "\n",
    "cursor.executemany(sqlStuff, sql_data)\n",
    "maxdb.commit()"
   ]
  },
  {
   "cell_type": "code",
   "execution_count": 11,
   "metadata": {},
   "outputs": [
    {
     "name": "stdout",
     "output_type": "stream",
     "text": [
      "路線中含埔里次數： 2次\n"
     ]
    }
   ],
   "source": [
    " # Read\n",
    "cursor.execute(\"SELECT * FROM bus_routes Where route Like '%埔里%'\")\n",
    "select_result = cursor.fetchall()\n",
    "#for row in select_result:\n",
    "#    print(row)\n",
    "print(f'路線中含埔里次數： {len(select_result)}次')"
   ]
  },
  {
   "cell_type": "code",
   "execution_count": null,
   "metadata": {},
   "outputs": [],
   "source": [
    "# Delete Table\n",
    "#  delete_table = \"DROP TABLE IF EXISTS bus_routes\"\n",
    "#  cursor.execute(delete_table)"
   ]
  },
  {
   "cell_type": "code",
   "execution_count": null,
   "metadata": {},
   "outputs": [],
   "source": [
    "# Delete DB\n",
    "#  delete_table = \"DROP DATABASE IF EXISTS bus_route\"\n",
    "#  cursor.execute(delete_table)"
   ]
  },
  {
   "cell_type": "code",
   "execution_count": null,
   "metadata": {},
   "outputs": [],
   "source": []
  }
 ],
 "metadata": {
  "kernelspec": {
   "display_name": "Python 3",
   "language": "python",
   "name": "python3"
  },
  "language_info": {
   "codemirror_mode": {
    "name": "ipython",
    "version": 3
   },
   "file_extension": ".py",
   "mimetype": "text/x-python",
   "name": "python",
   "nbconvert_exporter": "python",
   "pygments_lexer": "ipython3",
   "version": "3.7.3"
  }
 },
 "nbformat": 4,
 "nbformat_minor": 2
}
